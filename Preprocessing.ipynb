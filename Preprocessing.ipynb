{
  "nbformat": 4,
  "nbformat_minor": 0,
  "metadata": {
    "colab": {
      "name": "Preprocessing.ipynb",
      "provenance": [],
      "collapsed_sections": [],
      "authorship_tag": "ABX9TyNE+MJVwO9RYEfyVVCCxESE",
      "include_colab_link": true
    },
    "kernelspec": {
      "name": "python3",
      "display_name": "Python 3"
    },
    "language_info": {
      "name": "python"
    }
  },
  "cells": [
    {
      "cell_type": "markdown",
      "metadata": {
        "id": "view-in-github",
        "colab_type": "text"
      },
      "source": [
        "<a href=\"https://colab.research.google.com/github/Restara/Data-Mining/blob/main/Preprocessing.ipynb\" target=\"_parent\"><img src=\"https://colab.research.google.com/assets/colab-badge.svg\" alt=\"Open In Colab\"/></a>"
      ]
    },
    {
      "cell_type": "code",
      "metadata": {
        "id": "pmVOjqIerG4u"
      },
      "source": [
        "import numpy as np\n",
        "import matplotlib.pyplot as plt\n",
        "import pandas as pd"
      ],
      "execution_count": 21,
      "outputs": []
    },
    {
      "cell_type": "code",
      "metadata": {
        "id": "hMfP3KMOyuK_"
      },
      "source": [
        "dataset = pd.read_csv('Sepatu.csv')\n",
        "x = dataset.iloc[:, :-1].values\n",
        "y = dataset.iloc[:, -1].values"
      ],
      "execution_count": 22,
      "outputs": []
    },
    {
      "cell_type": "code",
      "metadata": {
        "colab": {
          "base_uri": "https://localhost:8080/"
        },
        "id": "wrPUmtsKz-Xq",
        "outputId": "d198da5f-801d-4dee-eef3-67a1c628b3d4"
      },
      "source": [
        "print(x)"
      ],
      "execution_count": 23,
      "outputs": [
        {
          "output_type": "stream",
          "text": [
            "[['Converse' 20.0 530000.0]\n",
            " ['Adidas' 27.0 499000.0]\n",
            " ['Adidas' 0.0 825000.0]\n",
            " ['Adidas' 0.0 480000.0]\n",
            " ['Converse' 10.0 899000.0]\n",
            " ['Eagle' 17.0 nan]\n",
            " ['Nike' 0.0 1500000.0]\n",
            " ['Eagle' nan 400000.0]\n",
            " ['Converse' 0.0 133000.0]\n",
            " ['Eagle' nan nan]]\n"
          ],
          "name": "stdout"
        }
      ]
    },
    {
      "cell_type": "code",
      "metadata": {
        "colab": {
          "base_uri": "https://localhost:8080/"
        },
        "id": "PWFQ2luO0Gbt",
        "outputId": "d2cb57b7-76fe-4b66-a715-bb1b13e54a7d"
      },
      "source": [
        "print(y)"
      ],
      "execution_count": 24,
      "outputs": [
        {
          "output_type": "stream",
          "text": [
            "['Ready' 'Ready' 'Sold' 'Sold' 'Ready' 'Ready' 'Sold' 'Ready' 'Sold'\n",
            " 'Ready']\n"
          ],
          "name": "stdout"
        }
      ]
    },
    {
      "cell_type": "code",
      "metadata": {
        "id": "G6JfXURS0VyS"
      },
      "source": [
        "from sklearn.impute import SimpleImputer\n",
        "imputer = SimpleImputer(missing_values=np.nan, strategy='mean')\n",
        "imputer.fit(x[:, 1:3])\n",
        "x[:, 1:3] = imputer.transform(x[:, 1:3])"
      ],
      "execution_count": 25,
      "outputs": []
    },
    {
      "cell_type": "code",
      "metadata": {
        "colab": {
          "base_uri": "https://localhost:8080/"
        },
        "id": "jS8SuYD12YyX",
        "outputId": "d1721b78-343a-4a19-802a-dfd0f5e54131"
      },
      "source": [
        "print(x)"
      ],
      "execution_count": 26,
      "outputs": [
        {
          "output_type": "stream",
          "text": [
            "[['Converse' 20.0 530000.0]\n",
            " ['Adidas' 27.0 499000.0]\n",
            " ['Adidas' 0.0 825000.0]\n",
            " ['Adidas' 0.0 480000.0]\n",
            " ['Converse' 10.0 899000.0]\n",
            " ['Eagle' 17.0 658250.0]\n",
            " ['Nike' 0.0 1500000.0]\n",
            " ['Eagle' 9.25 400000.0]\n",
            " ['Converse' 0.0 133000.0]\n",
            " ['Eagle' 9.25 658250.0]]\n"
          ],
          "name": "stdout"
        }
      ]
    },
    {
      "cell_type": "code",
      "metadata": {
        "id": "9ezQTECk2qNO"
      },
      "source": [
        "from sklearn.compose import ColumnTransformer\n",
        "from sklearn.preprocessing import OneHotEncoder\n",
        "ct = ColumnTransformer(transformers=[('encoder', OneHotEncoder(), [0])], remainder='passthrough')\n",
        "x = np.array(ct.fit_transform(x))"
      ],
      "execution_count": 27,
      "outputs": []
    },
    {
      "cell_type": "code",
      "metadata": {
        "colab": {
          "base_uri": "https://localhost:8080/"
        },
        "id": "2xaMKoKR4BIP",
        "outputId": "882b8e07-58de-4233-f577-95551c49b67e"
      },
      "source": [
        "print(x)"
      ],
      "execution_count": 28,
      "outputs": [
        {
          "output_type": "stream",
          "text": [
            "[[0.0 1.0 0.0 0.0 20.0 530000.0]\n",
            " [1.0 0.0 0.0 0.0 27.0 499000.0]\n",
            " [1.0 0.0 0.0 0.0 0.0 825000.0]\n",
            " [1.0 0.0 0.0 0.0 0.0 480000.0]\n",
            " [0.0 1.0 0.0 0.0 10.0 899000.0]\n",
            " [0.0 0.0 1.0 0.0 17.0 658250.0]\n",
            " [0.0 0.0 0.0 1.0 0.0 1500000.0]\n",
            " [0.0 0.0 1.0 0.0 9.25 400000.0]\n",
            " [0.0 1.0 0.0 0.0 0.0 133000.0]\n",
            " [0.0 0.0 1.0 0.0 9.25 658250.0]]\n"
          ],
          "name": "stdout"
        }
      ]
    },
    {
      "cell_type": "code",
      "metadata": {
        "id": "LLtlG6KvJgVi"
      },
      "source": [
        "from sklearn.preprocessing import LabelEncoder\n",
        "le = LabelEncoder()\n",
        "y = le.fit_transform(y)"
      ],
      "execution_count": 29,
      "outputs": []
    },
    {
      "cell_type": "code",
      "metadata": {
        "colab": {
          "base_uri": "https://localhost:8080/"
        },
        "id": "rH7pIrjaKBpy",
        "outputId": "d1904551-50cf-4893-a1cf-699892a51268"
      },
      "source": [
        "print(y)"
      ],
      "execution_count": 30,
      "outputs": [
        {
          "output_type": "stream",
          "text": [
            "[0 0 1 1 0 0 1 0 1 0]\n"
          ],
          "name": "stdout"
        }
      ]
    },
    {
      "cell_type": "code",
      "metadata": {
        "id": "-zatFThCKt7j"
      },
      "source": [
        "from sklearn.model_selection import  train_test_split\n",
        "x_train, x_test, y_train, y_test = train_test_split(x, y, test_size = 0.2, random_state = 1)"
      ],
      "execution_count": 31,
      "outputs": []
    },
    {
      "cell_type": "code",
      "metadata": {
        "colab": {
          "base_uri": "https://localhost:8080/"
        },
        "id": "TZiFz012LXpJ",
        "outputId": "0a5db5aa-3214-4865-ba4c-9f9425a33b2f"
      },
      "source": [
        "print(x_train)"
      ],
      "execution_count": 32,
      "outputs": [
        {
          "output_type": "stream",
          "text": [
            "[[0.0 0.0 0.0 1.0 0.0 1500000.0]\n",
            " [0.0 1.0 0.0 0.0 10.0 899000.0]\n",
            " [0.0 1.0 0.0 0.0 20.0 530000.0]\n",
            " [1.0 0.0 0.0 0.0 0.0 480000.0]\n",
            " [1.0 0.0 0.0 0.0 27.0 499000.0]\n",
            " [0.0 0.0 1.0 0.0 9.25 400000.0]\n",
            " [0.0 1.0 0.0 0.0 0.0 133000.0]\n",
            " [0.0 0.0 1.0 0.0 17.0 658250.0]]\n"
          ],
          "name": "stdout"
        }
      ]
    },
    {
      "cell_type": "code",
      "metadata": {
        "colab": {
          "base_uri": "https://localhost:8080/"
        },
        "id": "rKB6qBn9LmPC",
        "outputId": "3f2ee15c-9099-48c3-87f2-c64cfe011f95"
      },
      "source": [
        "print(x_test)"
      ],
      "execution_count": 33,
      "outputs": [
        {
          "output_type": "stream",
          "text": [
            "[[1.0 0.0 0.0 0.0 0.0 825000.0]\n",
            " [0.0 0.0 1.0 0.0 9.25 658250.0]]\n"
          ],
          "name": "stdout"
        }
      ]
    },
    {
      "cell_type": "code",
      "metadata": {
        "colab": {
          "base_uri": "https://localhost:8080/"
        },
        "id": "8DH5VrsBLxAy",
        "outputId": "6bcabadc-9110-4061-d836-bd9f28fd33f9"
      },
      "source": [
        "print(y_train)"
      ],
      "execution_count": 34,
      "outputs": [
        {
          "output_type": "stream",
          "text": [
            "[1 0 0 1 0 0 1 0]\n"
          ],
          "name": "stdout"
        }
      ]
    },
    {
      "cell_type": "code",
      "metadata": {
        "colab": {
          "base_uri": "https://localhost:8080/"
        },
        "id": "AdRamO6HL5qZ",
        "outputId": "c6b29419-6cfa-4b9f-da1f-3d78651bba72"
      },
      "source": [
        "print(y_test)"
      ],
      "execution_count": 35,
      "outputs": [
        {
          "output_type": "stream",
          "text": [
            "[1 0]\n"
          ],
          "name": "stdout"
        }
      ]
    },
    {
      "cell_type": "code",
      "metadata": {
        "id": "XNg-I4n9MA1h"
      },
      "source": [
        "from sklearn.preprocessing import StandardScaler\n",
        "sc = StandardScaler()\n",
        "x_train[:, 3:] = sc.fit_transform(x_train[:, 3:])\n",
        "x_test[:, 3:] = sc.transform(x_test[:, 3:])"
      ],
      "execution_count": 36,
      "outputs": []
    },
    {
      "cell_type": "code",
      "metadata": {
        "colab": {
          "base_uri": "https://localhost:8080/"
        },
        "id": "CKW166GHjGKd",
        "outputId": "a1838f16-f2d6-4185-ba3a-912b46fd7bcf"
      },
      "source": [
        "print(x_train)"
      ],
      "execution_count": 37,
      "outputs": [
        {
          "output_type": "stream",
          "text": [
            "[[0.0 0.0 0.0 2.6457513110645903 -1.0840121729436925 2.2467738588462063]\n",
            " [0.0 1.0 0.0 -0.3779644730092272 -0.04231879353834235 0.6813659374851138]\n",
            " [0.0 1.0 0.0 -0.3779644730092272 0.9993745858670078 -0.2797580608214474]\n",
            " [1.0 0.0 0.0 -0.3779644730092272 -1.0840121729436925\n",
            "  -0.40999166492802747]\n",
            " [1.0 0.0 0.0 -0.3779644730092272 1.7285599514507528 -0.36050289536752705]\n",
            " [0.0 0.0 1.0 -0.3779644730092272 -0.12044579699374361\n",
            "  -0.6183654314985556]\n",
            " [0.0 1.0 0.0 -0.3779644730092272 -1.0840121729436925 -1.3138128774276934]\n",
            " [0.0 0.0 1.0 -0.3779644730092272 0.6868665720454027 0.054291133711930575]]\n"
          ],
          "name": "stdout"
        }
      ]
    },
    {
      "cell_type": "code",
      "metadata": {
        "colab": {
          "base_uri": "https://localhost:8080/"
        },
        "id": "-diD28F2jRWW",
        "outputId": "835a205e-8575-4dfd-b7a4-8a654cb70129"
      },
      "source": [
        "print(x_test)"
      ],
      "execution_count": 38,
      "outputs": [
        {
          "output_type": "stream",
          "text": [
            "[[1.0 0.0 0.0 -0.3779644730092272 -1.0840121729436925 0.4886202034073752]\n",
            " [0.0 0.0 1.0 -0.3779644730092272 -0.12044579699374361\n",
            "  0.054291133711930575]]\n"
          ],
          "name": "stdout"
        }
      ]
    }
  ]
}